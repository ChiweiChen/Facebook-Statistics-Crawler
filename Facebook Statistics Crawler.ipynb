{
 "cells": [
  {
   "cell_type": "code",
   "execution_count": null,
   "metadata": {},
   "outputs": [],
   "source": [
    "from selenium import webdriver\n",
    "from selenium.webdriver.chrome.options import Options\n",
    "from bs4 import BeautifulSoup, Tag, NavigableString\n",
    "import time\n",
    "import os\n",
    "import csv\n",
    "import time\n",
    "\n",
    "options= Options()\n",
    "options.add_argument('--headless')\n",
    "options.add_argument('--disable-gpu')\n",
    "driver=webdriver.Chrome(os.getcwd()+\"/chromedriver\",chrome_options=options)\n",
    "driver.get('https://socialblade.com/facebook/top/500/likes')\n",
    "\n",
    "#https://socialblade.com/facebook/top/500/likes\n",
    "#https://socialblade.com/facebook/top/500/talking-about\n",
    "sourceCode=BeautifulSoup(driver.page_source,\"html.parser\")\n",
    "pages=[]\n",
    "pages.extend(sourceCode.find_all('div',{'style':'width: 860px; background: #fafafa; padding: 10px 20px; color:#444; font-size: 10pt; border-bottom: 1px solid #eee; line-height: 40px;'}))\n",
    "pages.extend(sourceCode.find_all('div',{'style':'width: 860px; background: #f8f8f8;; padding: 10px 20px; color:#444; font-size: 10pt; border-bottom: 1px solid #eee; line-height: 40px;'}))\n",
    "pages.extend(sourceCode.find_all('div',{'style':'width: 860px; background: #fafafa; padding: 0px 20px; color:#444; font-size: 10pt; border-bottom: 1px solid #eee; line-height: 30px;'}))\n",
    "pages.extend(sourceCode.find_all('div',{'style':'width: 860px; background: #f8f8f8;; padding: 0px 20px; color:#444; font-size: 10pt; border-bottom: 1px solid #eee; line-height: 30px;'}))\n",
    "count=0\n",
    "print(\"Start\")\n",
    "with open('likes5000.csv', 'w', newline='',encoding=\"utf-8\") as file:\n",
    "    writer = csv.writer(file)\n",
    "    writer.writerow([\"ID\",\"Name\",\"Likes\",\"Talking About\"])\n",
    "    for youtuber in youtubers:\n",
    "        count+=1\n",
    "        try:\n",
    "            name=youtuber.find_all(\"a\")[0].text\n",
    "        except IndexError:\n",
    "            name=\"N/A\"\n",
    "        try:\n",
    "            likes=youtuber.find_all(\"span\",{\"style\":\"color:#555;\"})[0].text.strip()\n",
    "        except IndexError:\n",
    "            likes=\"N/A\"\n",
    "        try:\n",
    "            talking=youtuber.find_all(\"span\",{\"style\":\"color:#555;\"})[1].text.strip()\n",
    "        except IndexError:\n",
    "            talking=\"N/A\"\n",
    "\n",
    "        data=[str(count),name,likes,talking]\n",
    "        \n",
    "        writer.writerow(data)\n",
    "\n",
    "print(count)"
   ]
  }
 ],
 "metadata": {
  "kernelspec": {
   "display_name": "Python 3",
   "language": "python",
   "name": "python3"
  },
  "language_info": {
   "codemirror_mode": {
    "name": "ipython",
    "version": 3
   },
   "file_extension": ".py",
   "mimetype": "text/x-python",
   "name": "python",
   "nbconvert_exporter": "python",
   "pygments_lexer": "ipython3",
   "version": "3.7.4"
  }
 },
 "nbformat": 4,
 "nbformat_minor": 2
}
